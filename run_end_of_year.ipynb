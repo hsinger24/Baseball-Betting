{
 "cells": [
  {
   "cell_type": "code",
   "execution_count": 1,
   "metadata": {},
   "outputs": [],
   "source": [
    "import pandas as pd\n",
    "import datetime as dt\n",
    "import re\n",
    "import time\n",
    "from bs4 import BeautifulSoup\n",
    "from selenium import webdriver\n",
    "from selenium.webdriver.common.keys import Keys\n",
    "from selenium.webdriver.chrome.options import Options\n",
    "from selenium.webdriver.common.by import By\n",
    "from selenium.webdriver.support import expected_conditions as EC\n",
    "from selenium.webdriver.support.ui import WebDriverWait\n",
    "from selenium.webdriver.support.ui import Select\n",
    "from webdriver_manager.chrome import ChromeDriverManager\n",
    "from war_functions.pecota_tables import *\n",
    "from cluster_luck_functions.cluster_luck_hitting import *\n",
    "from cluster_luck_functions.cluster_luck_pitching import *\n",
    "from cluster_luck_functions.cluster_luck_combined import *\n",
    "from daily_adjustments.active_rosters import *\n",
    "from daily_adjustments.BP_WAR import *\n",
    "from daily_adjustments.todays_game_info import *\n",
    "from daily_adjustments.starting_rotations_WAR import *\n",
    "from daily_adjustments.adjusted_war_today import *\n",
    "from odds_and_other_projections import *"
   ]
  },
  {
   "cell_type": "code",
   "execution_count": 2,
   "metadata": {},
   "outputs": [],
   "source": [
    "# Gathering BOY Projections\n",
    "boy_projections = pd.read_csv('data/preseason_projections.csv', index_col = 0)[['Team', 'Win_Percentage']]\n",
    "boy_projections['Proj_Wins'] = boy_projections.Win_Percentage*162.0"
   ]
  },
  {
   "cell_type": "code",
   "execution_count": 3,
   "metadata": {},
   "outputs": [],
   "source": [
    "# Saving preseason O/U and actual wins\n",
    "\n",
    "preseason_ou = {\n",
    "    'Diamondbacks' : 67.5,\n",
    "    'Braves' : 91.5,\n",
    "    'Cubs' : 75.5,\n",
    "    'Reds' : 74.5,\n",
    "    'Rockies' : 68.5,\n",
    "    'Dodgers' : 98.5,\n",
    "    'Marlins' : 77.5,\n",
    "    'Brewers' : 89.5,\n",
    "    'Mets' : 88.5,\n",
    "    'Phillies' : 86.5,\n",
    "    'Pirates' : 65.5,\n",
    "    'Padres' : 89.5,\n",
    "    'Giants' : 86.5,\n",
    "    'Cardinals' : 84.5,\n",
    "    'Nationals' : 71.5,\n",
    "    'Orioles' : 62.5,\n",
    "    'Red Sox' : 85.5,\n",
    "    'White Sox' : 91.5,\n",
    "    'Guardians' : 76.5,\n",
    "    'Tigers' : 78.5,\n",
    "    'Astros' : 91.5,\n",
    "    'Royals' : 74.5,\n",
    "    'Angels' : 83.5,\n",
    "    'Twins' : 81.5,\n",
    "    'Yankees' : 91.5,\n",
    "    'Athletics' : 68.5,\n",
    "    'Mariners' : 83.5,\n",
    "    'Rays' : 89.5,\n",
    "    'Rangers' : 74.5,\n",
    "    'Blue Jays' : 92.5\n",
    "}\n",
    "wins = {\n",
    "    'Diamondbacks' : 74,\n",
    "    'Braves' : 101,\n",
    "    'Cubs' : 74,\n",
    "    'Reds' : 62,\n",
    "    'Rockies' : 68,\n",
    "    'Dodgers' : 111,\n",
    "    'Marlins' : 69,\n",
    "    'Brewers' : 86,\n",
    "    'Mets' : 101,\n",
    "    'Phillies' : 87,\n",
    "    'Pirates' : 62,\n",
    "    'Padres' : 89,\n",
    "    'Giants' : 81,\n",
    "    'Cardinals' : 93,\n",
    "    'Nationals' : 55,\n",
    "    'Orioles' : 83,\n",
    "    'Red Sox' : 78,\n",
    "    'White Sox' : 81,\n",
    "    'Guardians' : 92,\n",
    "    'Tigers' : 66,\n",
    "    'Astros' : 106,\n",
    "    'Royals' : 65,\n",
    "    'Angels' : 73,\n",
    "    'Twins' : 78,\n",
    "    'Yankees' : 99,\n",
    "    'Athletics' : 60,\n",
    "    'Mariners' : 90,\n",
    "    'Rays' : 86,\n",
    "    'Rangers' : 68,\n",
    "    'Blue Jays' : 92\n",
    "}"
   ]
  },
  {
   "cell_type": "code",
   "execution_count": 4,
   "metadata": {},
   "outputs": [],
   "source": [
    "# Filling DF with data\n",
    "boy_projections['Preseason_OU'] = 0\n",
    "for key, value in preseason_ou.items():\n",
    "    boy_projections.loc[boy_projections.Team == key, 'Preseason_OU'] = value\n",
    "    \n",
    "boy_projections['Wins'] = 0\n",
    "for key, value in wins.items():\n",
    "    boy_projections.loc[boy_projections.Team == key, 'Wins'] = value"
   ]
  },
  {
   "cell_type": "code",
   "execution_count": 5,
   "metadata": {},
   "outputs": [
    {
     "data": {
      "text/plain": [
       "Index(['Team', 'Win_Percentage', 'Proj_Wins', 'Preseason_OU', 'Wins',\n",
       "       'Bet_Hit'],\n",
       "      dtype='object')"
      ]
     },
     "execution_count": 5,
     "metadata": {},
     "output_type": "execute_result"
    }
   ],
   "source": [
    "# Iterating through to generate bets and results\n",
    "\n",
    "boy_projections['Bet_Hit'] = boy_projections.apply(lambda x: 1 if (x.Proj_Wins < x.Preseason_OU)\n",
    "                                                   & (x.Wins < x.Preseason_OU) else \n",
    "                                                  1 if (x.Proj_Wins > x.Preseason_OU)\n",
    "                                                  & (x.Wins > x.Preseason_OU) else -1, axis = 1)\n",
    "boy_projections.columns"
   ]
  },
  {
   "cell_type": "code",
   "execution_count": 6,
   "metadata": {},
   "outputs": [],
   "source": [
    "# Calling in game by game results to get final capital\n",
    "\n",
    "results = pd.read_csv('results_tracker/results_tracker_base.csv', index_col = 0)\n",
    "capital = results.loc[len(results)-1, 'Money_Tracker']"
   ]
  },
  {
   "cell_type": "code",
   "execution_count": 7,
   "metadata": {},
   "outputs": [
    {
     "data": {
      "text/plain": [
       "130825.83388360712"
      ]
     },
     "execution_count": 7,
     "metadata": {},
     "output_type": "execute_result"
    }
   ],
   "source": [
    "# Getting final capital\n",
    "\n",
    "final_capital = capital + 2000 * sum(boy_projections.Bet_Hit)\n",
    "final_capital"
   ]
  },
  {
   "cell_type": "code",
   "execution_count": null,
   "metadata": {},
   "outputs": [],
   "source": []
  }
 ],
 "metadata": {
  "kernelspec": {
   "display_name": "Python 3",
   "language": "python",
   "name": "python3"
  },
  "language_info": {
   "codemirror_mode": {
    "name": "ipython",
    "version": 3
   },
   "file_extension": ".py",
   "mimetype": "text/x-python",
   "name": "python",
   "nbconvert_exporter": "python",
   "pygments_lexer": "ipython3",
   "version": "3.7.6"
  }
 },
 "nbformat": 4,
 "nbformat_minor": 4
}
