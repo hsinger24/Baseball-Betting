{
 "cells": [
  {
   "cell_type": "code",
   "execution_count": 4,
   "id": "fd4002d7",
   "metadata": {},
   "outputs": [],
   "source": [
    "import datetime as dt\n",
    "\n",
    "from daily_adjustments.active_rosters import *\n",
    "from daily_adjustments.BP_WAR import *\n",
    "\n",
    "from cluster_luck_functions.cluster_luck_hitting import *\n",
    "from cluster_luck_functions.cluster_luck_pitching import *\n",
    "from cluster_luck_functions.cluster_luck_combined import *\n",
    "\n",
    "from war_functions.pecota_tables import *\n",
    "#from war_functions.historical_war_table import *\n",
    "from war_functions.preseason_war_projections import *\n",
    "from war_functions.preseason_win_percentage import *\n",
    "\n",
    "current_year = dt.date.today().year"
   ]
  },
  {
   "cell_type": "markdown",
   "id": "86c164c7",
   "metadata": {},
   "source": [
    "# Creating names.csv"
   ]
  },
  {
   "cell_type": "code",
   "execution_count": 3,
   "id": "c4a97149",
   "metadata": {},
   "outputs": [],
   "source": [
    "hitters = pd.read_csv('pecota_data/pecota_hitting.csv')\n",
    "hitters['name_wo_a'] = hitters.first_name + ' ' + hitters.last_name\n",
    "hitters = hitters[['bpid', 'name', 'name_wo_a']]\n",
    "\n",
    "pitchers = pd.read_csv('pecota_data/pecota_pitching.csv')\n",
    "pitchers['name_wo_a'] = pitchers.first_name + ' ' + pitchers.last_name\n",
    "pitchers = pitchers[['bpid', 'name', 'name_wo_a']]\n",
    "\n",
    "names = pd.concat([hitters, pitchers])\n",
    "for i in [1,2,3,4]:\n",
    "    names[f'name_alt_{i}'] = ''\n",
    "\n",
    "names.to_csv('pecota_data/names.csv')"
   ]
  },
  {
   "cell_type": "markdown",
   "id": "3f79f0c7",
   "metadata": {},
   "source": [
    "# BOY Active Rosters"
   ]
  },
  {
   "cell_type": "code",
   "execution_count": 11,
   "id": "896fdce1",
   "metadata": {},
   "outputs": [],
   "source": [
    "retrieve_all_active_rosters()\n",
    "rosters = load_active_rosters()"
   ]
  },
  {
   "cell_type": "markdown",
   "id": "e8e65d6f",
   "metadata": {},
   "source": [
    "# Cluster Luck"
   ]
  },
  {
   "cell_type": "code",
   "execution_count": 24,
   "id": "a7596184",
   "metadata": {},
   "outputs": [],
   "source": [
    "%%capture\n",
    "\n",
    "# Hitting\n",
    "\n",
    "retrieve_historical_hitting_tables([2022, 2021, 2019, 2018])\n",
    "historical_hitting_table = load_historical_hitting_tables()\n",
    "calculate_and_save_hitting_linear_regression(historical_hitting_table)\n",
    "hitting_reg = load_linear_regression(\"data/hitting_regression.pickle\")\n",
    "prev_year_hitting_table = retrieve_historical_hitting_tables(2022, file_name = None)\n",
    "prev_year_hitting_adjustment = calculate_predicted_cluster_luck_run_adjustment_hitting(hitting_reg, prev_year_hitting_table)"
   ]
  },
  {
   "cell_type": "code",
   "execution_count": 25,
   "id": "5b8bb5f1",
   "metadata": {},
   "outputs": [],
   "source": [
    "%%capture\n",
    "\n",
    "# Pitching\n",
    "\n",
    "retrieve_historical_pitching_tables([2022, 2021, 2019, 2018])\n",
    "historical_pitching_table = load_historical_pitching_tables()\n",
    "calculate_and_save_pitching_linear_regression(historical_pitching_table)\n",
    "pitching_reg = load_linear_regression('./data/pitching_regression.pickle')\n",
    "prev_year_pitching_table = retrieve_historical_pitching_tables(2022, file_name = None)\n",
    "prev_year_pitching_adjustment = calculate_predicted_cluster_luck_run_adjustment_pitching(pitching_reg, prev_year_pitching_table)"
   ]
  },
  {
   "cell_type": "code",
   "execution_count": 27,
   "id": "3dabbe1c",
   "metadata": {},
   "outputs": [],
   "source": [
    "# Merging\n",
    "\n",
    "final_cluster_luck = merge_cluster_luck_tables(prev_year_hitting_adjustment, prev_year_pitching_adjustment, file_name = 'data/final_cluster_luck.csv')"
   ]
  },
  {
   "cell_type": "markdown",
   "id": "7485090d",
   "metadata": {},
   "source": [
    "# WAR Functions"
   ]
  },
  {
   "cell_type": "code",
   "execution_count": 28,
   "id": "55714f1a",
   "metadata": {},
   "outputs": [],
   "source": [
    "######### NEED TO MAKE GUARDIANS CHANGE ###########\n",
    "\n",
    "pt = load_combined_pecota_table()\n",
    "retrieve_previous_year_war_table(2022)\n",
    "prev_year_war = load_previous_year_war_table()\n",
    "preseason_projections = calculate_preaseason_war_projections(rosters, pt)\n",
    "final_war_preseason = calculate_final_preseason_war_change(preseason_projections, prev_year_war, current_year = current_year, file_name = 'data/overall_war_predictions_preseason.csv')\n",
    "final_preseason_win_percentage = calculate_preseason_win_percentage(final_cluster_luck, final_war_preseason, current_year, file_name = 'data/preseason_projections.csv')"
   ]
  }
 ],
 "metadata": {
  "kernelspec": {
   "display_name": "Python 3 (ipykernel)",
   "language": "python",
   "name": "python3"
  },
  "language_info": {
   "codemirror_mode": {
    "name": "ipython",
    "version": 3
   },
   "file_extension": ".py",
   "mimetype": "text/x-python",
   "name": "python",
   "nbconvert_exporter": "python",
   "pygments_lexer": "ipython3",
   "version": "3.9.13"
  }
 },
 "nbformat": 4,
 "nbformat_minor": 5
}
