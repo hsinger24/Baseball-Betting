{
 "cells": [
  {
   "cell_type": "markdown",
   "metadata": {},
   "source": [
    "# Setting Up Environment/Data"
   ]
  },
  {
   "cell_type": "code",
   "execution_count": 1,
   "metadata": {},
   "outputs": [],
   "source": [
    "import pandas as pd\n",
    "import matplotlib.pyplot as plt\n",
    "import seaborn as sns"
   ]
  },
  {
   "cell_type": "code",
   "execution_count": 2,
   "metadata": {},
   "outputs": [],
   "source": [
    "# Importing Data\n",
    "results_base = pd.read_csv('results_tracker/results_tracker_base.csv', index_col = 0)\n",
    "results_base = results_base[results_base.Won != -1]\n",
    "\n",
    "# Setting Up Data\n",
    "results_base['Home_Bucket'] = results_base.Home_Prob.apply(lambda x: '0-10' if x <= 0.1\n",
    "                                                          else '10-20' if x <= 0.2\n",
    "                                                          else '20-30' if x <= 0.3\n",
    "                                                          else '30-40' if x <= 0.4\n",
    "                                                          else '40-50' if x <= 0.5\n",
    "                                                          else '50-60' if x <= 0.6\n",
    "                                                          else '60-70' if x <= 0.7\n",
    "                                                          else '70-80' if x <= 0.8\n",
    "                                                          else '80-90' if x <= 0.9\n",
    "                                                          else '90-100')\n",
    "results_base['Away_Bucket'] = results_base.Away_Prob.apply(lambda x: '0-10' if x <= 0.1\n",
    "                                                          else '10-20' if x <= 0.2\n",
    "                                                          else '20-30' if x <= 0.3\n",
    "                                                          else '30-40' if x <= 0.4\n",
    "                                                          else '40-50' if x <= 0.5\n",
    "                                                          else '50-60' if x <= 0.6\n",
    "                                                          else '60-70' if x <= 0.7\n",
    "                                                          else '70-80' if x <= 0.8\n",
    "                                                          else '80-90' if x <= 0.9\n",
    "                                                          else '90-100')\n",
    "results_base['Won_Home'] = results_base.apply(lambda x: 1 if (x.Home_KC > 0) & (x.Won > 0)\n",
    "                                              else 1 if (x.Away_KC > 0) & (x.Won == 0)\n",
    "                                             else 0, axis = 1)\n",
    "results_base['Won_Away'] = results_base.apply(lambda x: 1 if (x.Away_KC > 0) & (x.Won > 0)\n",
    "                                              else 1 if (x.Home_KC > 0) & (x.Won == 0)\n",
    "                                             else 0, axis = 1)\n",
    "\n",
    "# Calculating payoff\n",
    "def calculate_payoff(row):\n",
    "    if row.Home_KC>0:\n",
    "        if row.Home_ML>0:\n",
    "            payoff = (row.Home_ML/100)*row.Home_Bet\n",
    "        if row.Home_ML<0:\n",
    "            payoff = row.Home_Bet/((abs(row.Home_ML)/100))\n",
    "    elif row.Away_KC>0:\n",
    "        if row.Away_ML>0:\n",
    "            payoff = (row.Away_ML/100)*row.Away_Bet\n",
    "        if row.Away_ML<0:\n",
    "            payoff = row.Away_Bet/((abs(row.Away_ML)/100))\n",
    "    return payoff\n",
    "results_base['Payoff'] = results_base.apply(calculate_payoff, axis = 1)\n",
    "\n",
    "# Calculating Bet results\n",
    "def calculate_result(row):\n",
    "    if row.Won > 0:\n",
    "        return row.Payoff\n",
    "    else:\n",
    "        if row.Home_Bet > 0:\n",
    "            return -row.Home_Bet\n",
    "        else:\n",
    "            return -row.Away_Bet\n",
    "results_base['Result'] = results_base.apply(calculate_result, axis = 1)"
   ]
  },
  {
   "cell_type": "markdown",
   "metadata": {},
   "source": [
    "# Testing Calibration"
   ]
  },
  {
   "cell_type": "code",
   "execution_count": 71,
   "metadata": {},
   "outputs": [
    {
     "data": {
      "text/plain": [
       "<seaborn.axisgrid.FacetGrid at 0x7f9e11853dd0>"
      ]
     },
     "execution_count": 71,
     "metadata": {},
     "output_type": "execute_result"
    },
    {
     "data": {
      "image/png": "[encoded data removed]",
      "text/plain": [
       "<Figure size 360x360 with 1 Axes>"
      ]
     },
     "metadata": {
      "needs_background": "light"
     },
     "output_type": "display_data"
    }
   ],
   "source": [
    "# Home - # of Bets\n",
    "\n",
    "df = results_base.groupby(['Home_Bucket']).size().reset_index()\n",
    "df.columns = ['Home_Bucket', 'Num_Bets']\n",
    "\n",
    "sns.catplot(data = df, kind = 'bar', x = 'Home_Bucket', y = 'Num_Bets')"
   ]
  },
  {
   "cell_type": "code",
   "execution_count": 27,
   "metadata": {},
   "outputs": [
    {
     "data": {
      "text/plain": [
       "<seaborn.axisgrid.FacetGrid at 0x7f9e137e6a10>"
      ]
     },
     "execution_count": 27,
     "metadata": {},
     "output_type": "execute_result"
    },
    {
     "data": {
      "image/png": "[encoded data removed]",
      "text/plain": [
       "<Figure size 360x360 with 1 Axes>"
      ]
     },
     "metadata": {
      "needs_background": "light"
     },
     "output_type": "display_data"
    }
   ],
   "source": [
    "# Home - Team Win %\n",
    "\n",
    "df = results_base.groupby(['Home_Bucket']).agg({'Won_Home' : 'mean'}).reset_index()\n",
    "\n",
    "sns.catplot(data = df, kind = 'bar', x = 'Home_Bucket', y = 'Won_Home')"
   ]
  },
  {
   "cell_type": "code",
   "execution_count": 42,
   "metadata": {},
   "outputs": [
    {
     "data": {
      "text/plain": [
       "<seaborn.axisgrid.FacetGrid at 0x7f9e14457550>"
      ]
     },
     "execution_count": 42,
     "metadata": {},
     "output_type": "execute_result"
    },
    {
     "data": {
      "image/png": "[encoded data removed]",
      "text/plain": [
       "<Figure size 360x360 with 1 Axes>"
      ]
     },
     "metadata": {
      "needs_background": "light"
     },
     "output_type": "display_data"
    }
   ],
   "source": [
    "# Home - Bet Payoff\n",
    "\n",
    "df = results_base[results_base.Home_Bet > 0].groupby(['Home_Bucket']).agg({'Result' : 'sum'}).reset_index()\n",
    "\n",
    "sns.catplot(data = df, kind = 'bar', x = 'Home_Bucket', y = 'Result')"
   ]
  },
  {
   "cell_type": "code",
   "execution_count": 73,
   "metadata": {},
   "outputs": [
    {
     "data": {
      "text/plain": [
       "<seaborn.axisgrid.FacetGrid at 0x7f9e11aa3310>"
      ]
     },
     "execution_count": 73,
     "metadata": {},
     "output_type": "execute_result"
    },
    {
     "data": {
      "image/png": "[encoded data removed]",
      "text/plain": [
       "<Figure size 360x360 with 1 Axes>"
      ]
     },
     "metadata": {
      "needs_background": "light"
     },
     "output_type": "display_data"
    }
   ],
   "source": [
    "# Away - # of Bets\n",
    "\n",
    "df = results_base.groupby(['Away_Bucket']).size().reset_index()\n",
    "df.columns = ['Away_Bucket', 'Num_Bets']\n",
    "\n",
    "sns.catplot(data = df, kind = 'bar', x = 'Away_Bucket', y = 'Num_Bets')"
   ]
  },
  {
   "cell_type": "code",
   "execution_count": 30,
   "metadata": {},
   "outputs": [
    {
     "data": {
      "text/plain": [
       "<seaborn.axisgrid.FacetGrid at 0x7f9e13c35810>"
      ]
     },
     "execution_count": 30,
     "metadata": {},
     "output_type": "execute_result"
    },
    {
     "data": {
      "image/png": "[encoded data removed]",
      "text/plain": [
       "<Figure size 360x360 with 1 Axes>"
      ]
     },
     "metadata": {
      "needs_background": "light"
     },
     "output_type": "display_data"
    }
   ],
   "source": [
    "# Away - Team Win %\n",
    "\n",
    "df = results_base.groupby(['Away_Bucket']).agg({'Won_Away' : 'mean'}).reset_index()\n",
    "\n",
    "sns.catplot(data = df, kind = 'bar', x = 'Away_Bucket', y = 'Won_Away')"
   ]
  },
  {
   "cell_type": "code",
   "execution_count": 43,
   "metadata": {},
   "outputs": [
    {
     "data": {
      "text/plain": [
       "<seaborn.axisgrid.FacetGrid at 0x7f9e1468b810>"
      ]
     },
     "execution_count": 43,
     "metadata": {},
     "output_type": "execute_result"
    },
    {
     "data": {
      "image/png": "[encoded data removed]",
      "text/plain": [
       "<Figure size 360x360 with 1 Axes>"
      ]
     },
     "metadata": {
      "needs_background": "light"
     },
     "output_type": "display_data"
    }
   ],
   "source": [
    "# Away - Bet Win %\n",
    "\n",
    "df = results_base[results_base.Away_Bet > 0].groupby(['Away_Bucket']).agg({'Result' : 'sum'}).reset_index()\n",
    "\n",
    "sns.catplot(data = df, kind = 'bar', x = 'Away_Bucket', y = 'Result')"
   ]
  },
  {
   "cell_type": "markdown",
   "metadata": {},
   "source": [
    "# Performance By Team"
   ]
  },
  {
   "cell_type": "code",
   "execution_count": 75,
   "metadata": {},
   "outputs": [],
   "source": [
    "# Instantiating items\n",
    "\n",
    "teams = list(results_base.Home_Team.unique())\n",
    "team_results_dict = dict()\n",
    "team_results_dict['Team'] = teams\n",
    "results = []\n",
    "\n",
    "for team in teams:\n",
    "    df_home = results_base[(results_base.Home_Team == team)]\n",
    "    home_results = df_home[df_home.Home_Bet > 0].Result.sum()\n",
    "\n",
    "    df_away = results_base[(results_base.Away_Team == team)]\n",
    "    away_results = df_away[df_away.Away_Bet > 0].Result.sum()\n",
    "    \n",
    "    result = home_results + away_results\n",
    "    \n",
    "    results.append(result)\n",
    "    \n",
    "team_results_dict['Results'] = results\n",
    "results_df = pd.DataFrame(team_results_dict)"
   ]
  },
  {
   "cell_type": "code",
   "execution_count": 74,
   "metadata": {},
   "outputs": [],
   "source": [
    "# Checking if bad teams were bad halfway through\n",
    "\n",
    "bad_teams_df = results_df[results_df.Results <= -5000]\n",
    "bad_teams = list(bad_teams_df.Team.unique())\n",
    "\n",
    "# Repeating above exercise for first half of bets\n",
    "results_base_short = results_base[:400]\n",
    "\n",
    "teams = list(results_base_short.Home_Team.unique())\n",
    "team_results_dict = dict()\n",
    "team_results_dict['Team'] = teams\n",
    "results = []\n",
    "\n",
    "for team in teams:\n",
    "    df_home = results_base_short[(results_base_short.Home_Team == team)]\n",
    "    home_results = df_home[df_home.Home_Bet > 0].Result.sum()\n",
    "\n",
    "    df_away = results_base_short[(results_base_short.Away_Team == team)]\n",
    "    away_results = df_away[df_away.Away_Bet > 0].Result.sum()\n",
    "    \n",
    "    result = home_results + away_results\n",
    "    \n",
    "    results.append(result)\n",
    "    \n",
    "team_results_dict['Results'] = results\n",
    "results_df_short = pd.DataFrame(team_results_dict)\n",
    "\n",
    "results_df_short.sort_values(by = 'Results', inplace = True)\n",
    "\n",
    "merged = results_df_short.merge(results_df, on = 'Team')\n",
    "merged.columns = ['Team', 'Results_Half', 'Results_Whole']\n",
    "merged.sort_values(by = 'Results_Half', inplace = True)"
   ]
  },
  {
   "cell_type": "markdown",
   "metadata": {},
   "source": [
    "# RL Work"
   ]
  },
  {
   "cell_type": "markdown",
   "metadata": {},
   "source": [
    "### Code Examples"
   ]
  },
  {
   "cell_type": "raw",
   "metadata": {},
   "source": [
    "# Example of using RL for how much to bet (Chat GPT): \n",
    "\n",
    "import gym\n",
    "import numpy as np\n",
    "from stable_baselines import PPO2\n",
    "\n",
    "# Define the environment\n",
    "class BettingEnv(gym.Env):\n",
    "    def __init__(self, initial_funds):\n",
    "        self.initial_funds = initial_funds\n",
    "        self.current_funds = initial_funds\n",
    "        \n",
    "        # Define the action space as a box with bounds [0, 1]\n",
    "        self.action_space = spaces.Box(low=0, high=1, shape=(1,))\n",
    "        \n",
    "        # Define the observation space as a box with bounds [0, 1]\n",
    "        self.observation_space = spaces.Box(low=0, high=1, shape=(1,))\n",
    "        \n",
    "        self.odds = None\n",
    "        \n",
    "    def reset(self):\n",
    "        # Reset the environment to its initial state\n",
    "        self.current_funds = self.initial_funds\n",
    "        self.odds = np.random.uniform(low=1, high=2)\n",
    "        return self._get_observation()\n",
    "    \n",
    "    def step(self, action):\n",
    "        # Calculate the reward based on the odds and the action\n",
    "        reward = action * self.odds - action\n",
    "        \n",
    "        # Update the current funds\n",
    "        self.current_funds += reward\n",
    "        \n",
    "        # Check if the episode is over\n",
    "        done = False\n",
    "        if self.current_funds <= 0:\n",
    "            done = True\n",
    "            \n",
    "        return self._get_observation(), reward, done, {}\n",
    "    \n",
    "    def _get_observation(self):\n",
    "        # Return the current observation of the environment\n",
    "        return np.array([self.current_funds])\n",
    "    \n",
    "    def render(self, mode='human'):\n",
    "        # Render the environment\n",
    "        print(f\"Current funds: {self.current_funds}\")\n",
    "        print(f\"Odds: {self.odds}\")\n",
    "\n",
    "# Create the environment\n",
    "env = BettingEnv(initial_funds=100)\n",
    "\n",
    "# Create the PPO2 model\n",
    "model = PPO2('MlpPolicy', env, verbose=1)\n",
    "\n",
    "# Train the model\n",
    "model.learn(total_timesteps=10000)\n",
    "\n",
    "# Test the model\n",
    "model.test(env, n_episodes=10)\n",
    "In this example, the environment represents a betting game where the player starts with a certain amount of funds and can place a bet at each time step. The action space is a continuous space with bounds [0, 1], representing the fraction of the current funds to bet. The observation space is a single value representing the current funds. At each time step, the environment calculates the reward based on the odds of the game and the action taken, and updates the current funds accordingly. The episode is over when the player runs out of funds.\n",
    "\n",
    "\n",
    "\n",
    "\n",
    "Explanation\n",
    "\n",
    "In this example, the environment represents a betting game where the player starts with a certain amount of funds \n",
    "and can place a bet at each time step. The action space is a continuous space with bounds [0, 1], representing \n",
    "the fraction of the current funds to bet. The observation space is a single value representing the current funds. \n",
    "At each time step, the environment calculates the reward based on the odds of the game and the action taken, \n",
    "and updates the current funds accordingly. The episode is over when the player runs out of funds.\n",
    "\n",
    "\n",
    "\n",
    "\n"
   ]
  },
  {
   "cell_type": "raw",
   "metadata": {},
   "source": [
    "Stock Trading Example (Medium)\n",
    "\n",
    "class StockTradingEnvironment(gym.Env):\n",
    "  \"\"\"A stock trading environment for OpenAI gym\"\"\"\n",
    "  metadata = {'render.modes': ['human']}\n",
    "  def __init__(self, df):\n",
    "    super(StockTradingEnv, self).__init__()\n",
    "    self.df = df\n",
    "    self.reward_range = (0, MAX_ACCOUNT_BALANCE) \n",
    "    # Actions of the format Buy x%, Sell x%, Hold, etc.\n",
    "    self.action_space = spaces.Box(\n",
    "      low=np.array([0, 0]), high=np.array([3, 1]), dtype=np.float16)\n",
    "    # Prices contains the OHCL values for the last five prices\n",
    "    self.observation_space = spaces.Box(\n",
    "      low=0, high=1, shape=(6, 6), dtype=np.float16)\n",
    "\n",
    "def reset(self):\n",
    "  # Reset the state of the environment to an initial state\n",
    "  self.balance = INITIAL_ACCOUNT_BALANCE\n",
    "  self.net_worth = INITIAL_ACCOUNT_BALANCE\n",
    "  self.max_net_worth = INITIAL_ACCOUNT_BALANCE\n",
    "  self.shares_held = 0\n",
    "  self.cost_basis = 0\n",
    "  self.total_shares_sold = 0\n",
    "  self.total_sales_value = 0\n",
    " \n",
    "  # Set the current step to a random point within the data frame\n",
    "  self.current_step = random.randint(0, len(self.df.loc[:, 'Open'].values) - 6)\n",
    "  return self._next_observation()\n",
    "\n",
    "\n",
    "def _next_observation(self):\n",
    "  # Get the data points for the last 5 days and scale to between 0-1\n",
    "  frame = np.array([\n",
    "    self.df.loc[self.current_step: self.current_step +\n",
    "                5, 'Open'].values / MAX_SHARE_PRICE,\n",
    "    self.df.loc[self.current_step: self.current_step +\n",
    "                5, 'High'].values / MAX_SHARE_PRICE,\n",
    "    self.df.loc[self.current_step: self.current_step +\n",
    "                5, 'Low'].values / MAX_SHARE_PRICE,\n",
    "    self.df.loc[self.current_step: self.current_step +\n",
    "                5, 'Close'].values / MAX_SHARE_PRICE,\n",
    "    self.df.loc[self.current_step: self.current_step +\n",
    "                5, 'Volume'].values / MAX_NUM_SHARES,\n",
    "   ])\n",
    "  # Append additional data and scale each value to between 0-1\n",
    "  obs = np.append(frame, [[\n",
    "    self.balance / MAX_ACCOUNT_BALANCE,\n",
    "    self.max_net_worth / MAX_ACCOUNT_BALANCE,\n",
    "    self.shares_held / MAX_NUM_SHARES,\n",
    "    self.cost_basis / MAX_SHARE_PRICE,\n",
    "    self.total_shares_sold / MAX_NUM_SHARES,\n",
    "    self.total_sales_value / (MAX_NUM_SHARES * MAX_SHARE_PRICE),\n",
    "  ]], axis=0)\n",
    "  return obs\n",
    "\n",
    "\n",
    "def step(self, action):\n",
    "  # Execute one time step within the environment\n",
    "  self._take_action(action)\n",
    "  self.current_step += 1\n",
    "  if self.current_step > len(self.df.loc[:, 'Open'].values) - 6:\n",
    "    self.current_step = 0\n",
    "  delay_modifier = (self.current_step / MAX_STEPS)\n",
    "  \n",
    "  reward = self.balance * delay_modifier\n",
    "  done = self.net_worth <= 0\n",
    "  obs = self._next_observation()\n",
    "  return obs, reward, done, {}\n",
    "\n",
    "\n",
    "def _take_action(self, action):\n",
    "  # Set the current price to a random price within the time step\n",
    "  current_price = random.uniform(\n",
    "    self.df.loc[self.current_step, \"Open\"],\n",
    "    self.df.loc[self.current_step, \"Close\"])\n",
    "  action_type = action[0]\n",
    "  amount = action[1]\n",
    "  if action_type < 1:\n",
    "    # Buy amount % of balance in shares\n",
    "    total_possible = self.balance / current_price\n",
    "    shares_bought = total_possible * amount\n",
    "    prev_cost = self.cost_basis * self.shares_held\n",
    "    additional_cost = shares_bought * current_price\n",
    "    self.balance -= additional_cost\n",
    "    self.cost_basis = (prev_cost + additional_cost) / \n",
    "                            (self.shares_held + shares_bought)\n",
    "    self.shares_held += shares_bought\n",
    "  elif actionType < 2:\n",
    "    # Sell amount % of shares held\n",
    "    shares_sold = self.shares_held * amount . \n",
    "    self.balance += shares_sold * current_price\n",
    "    self.shares_held -= shares_sold\n",
    "    self.total_shares_sold += shares_sold\n",
    "    self.total_sales_value += shares_sold * current_price\n",
    "  self.netWorth = self.balance + self.shares_held * current_price\n",
    "  if self.net_worth > self.max_net_worth:\n",
    "    self.max_net_worth = net_worth\n",
    "  if self.shares_held == 0:\n",
    "    self.cost_basis = 0\n",
    "    \n",
    "\n",
    "def render(self, mode='human', close=False):\n",
    "  # Render the environment to the screen\n",
    "  profit = self.net_worth - INITIAL_ACCOUNT_BALANCE\n",
    "  print(f'Step: {self.current_step}')\n",
    "  print(f'Balance: {self.balance}')\n",
    "  print(f'Shares held: {self.shares_held}\n",
    "          (Total sold: {self.total_shares_sold})')\n",
    "  print(f'Avg cost for held shares: {self.cost_basis}\n",
    "          (Total sales value: {self.total_sales_value})')\n",
    "  print(f'Net worth: {self.net_worth}\n",
    "          (Max net worth: {self.max_net_worth})')\n",
    "  print(f'Profit: {profit}')\n",
    "\n",
    "    \n",
    "import gym\n",
    "import json\n",
    "import datetime as dt\n",
    "from stable_baselines.common.policies import MlpPolicy\n",
    "from stable_baselines.common.vec_env import DummyVecEnv\n",
    "from stable_baselines import PPO2\n",
    "from env.StockTradingEnv import StockTradingEnv\n",
    "import pandas as pd\n",
    "df = pd.read_csv('./data/AAPL.csv')\n",
    "df = df.sort_values('Date')\n",
    "# The algorithms require a vectorized environment to run\n",
    "env = DummyVecEnv([lambda: StockTradingEnv(df)])\n",
    "model = PPO2(MlpPolicy, env, verbose=1)\n",
    "model.learn(total_timesteps=20000)\n",
    "obs = env.reset()\n",
    "for i in range(2000):\n",
    "  action, _states = model.predict(obs)\n",
    "  obs, rewards, done, info = env.step(action)\n",
    "  env.render()"
   ]
  },
  {
   "cell_type": "raw",
   "metadata": {},
   "source": [
    "# Betting example (chatGPT)\n",
    "\n",
    "# Notes:\n",
    "# - obs is what gets fed into the model\n",
    "\n",
    "import gym\n",
    "import pandas as pd\n",
    "import numpy as np\n",
    "import stable_baselines\n",
    "\n",
    "# Assume the betting data is in a CSV file with the following columns:\n",
    "# - outcome: 0 for a loss, 1 for a win\n",
    "# - odds: the odds of the bet\n",
    "# - stake: the amount of money wagered on the bet\n",
    "# - net_return: the net return on the bet (outcome * odds - stake)\n",
    "\n",
    "class BettingEnv(gym.Env):\n",
    "    def __init__(self, df):\n",
    "        self.df = df\n",
    "        self.current_step = 0\n",
    "        self.observation_space = gym.spaces.Box(low=0, high=1, shape=(3,))\n",
    "        self.action_space = gym.spaces.Discrete(2)\n",
    "\n",
    "    def step(self, action):\n",
    "        self.current_step += 1\n",
    "        if self.current_step >= len(self.df):\n",
    "            done = True\n",
    "            reward = 0\n",
    "            obs = self.df.iloc[-1, :]\n",
    "        else:\n",
    "            done = False\n",
    "            if action == 0:\n",
    "                reward = -self.df.iloc[self.current_step, 2] # lose the stake\n",
    "            else:\n",
    "                reward = self.df.iloc[self.current_step, 3] # net return on the bet\n",
    "            obs = self.df.iloc[self.current_step, :]\n",
    "        return obs, reward, done, {}\n",
    "\n",
    "    def reset(self):\n",
    "        self.current_step = 0\n",
    "        return self.df.iloc[self.current_step, :]\n",
    "\n",
    "df = pd.read_csv('betting_data.csv')\n",
    "env = BettingEnv(df)\n",
    "\n",
    "model = stable_baselines.DQN('MlpPolicy', env, learning_rate=1e-3)\n",
    "model.learn(total_timesteps=10000)\n",
    "\n",
    "obs = env.reset()\n",
    "for i in range(len(df)):\n",
    "    action, _states = model.predict(obs)\n",
    "    obs, rewards, done, info = env.step(action)\n",
    "    if done:\n",
    "        break\n",
    "\n",
    "\n",
    "\n",
    "In this example, the BettingEnv class is defined with an observation space of shape (3,) to represent the \n",
    "three columns of the data frame (outcome, odds, stake). The action space is defined as a discrete space \n",
    "with two actions: 0 for not placing a bet, and 1 for placing a bet. The step method takes an action and \n",
    "updates the environment based on the outcome of the bet and the net return on the bet. The reset method \n",
    "simply resets the environment to the initial state.\n",
    "\n",
    "To train the model, the data frame is read in and passed to the environment class to create an \n",
    "instance of the environment. The stable baselines DQN model is then trained on the environment for a \n",
    "specified number of timesteps. Finally, the trained model is used to make predictions on the betting \n",
    "data by calling the predict method and passing in the current"
   ]
  },
  {
   "cell_type": "markdown",
   "metadata": {},
   "source": [
    "### Environment"
   ]
  },
  {
   "cell_type": "code",
   "execution_count": 16,
   "metadata": {},
   "outputs": [],
   "source": [
    "import gym\n",
    "import json\n",
    "import datetime as dt\n",
    "import numpy as np\n",
    "\n",
    "from stable_baselines3 import PPO\n",
    "from stable_baselines3 import SAC\n",
    "from stable_baselines3 import DDPG\n",
    "from stable_baselines3 import TD3\n",
    "from stable_baselines3.common.vec_env import DummyVecEnv\n",
    "\n",
    "data = results_base.reset_index(drop = True)"
   ]
  },
  {
   "cell_type": "code",
   "execution_count": 4,
   "metadata": {},
   "outputs": [],
   "source": [
    "# Environment\n",
    "\n",
    "class BettingEnv(gym.Env):\n",
    "    \n",
    "    def __init__(self, df, initial_funds):\n",
    "        self.df = df\n",
    "        self.current_step = 0\n",
    "        self.initial_funds = initial_funds\n",
    "        self.current_funds = initial_funds\n",
    "        # Actions of the format Team 1 x%, Team 2 x%, No bet, etc.\n",
    "        self.action_space = gym.spaces.Box(\n",
    "          low=np.array([0, 0]), high=np.array([3, 1]), dtype=np.float32)\n",
    "        self.observation_space = gym.spaces.Box(low=0, high=1, shape=(6,), dtype=np.float32)\n",
    "    \n",
    "    def step(self, action):\n",
    "        self.current_step += 1\n",
    "        action_type = action[0]\n",
    "        action_amount = (action[1] * self.current_funds) / 100.0\n",
    "        \n",
    "        if self.current_step >= len(self.df):\n",
    "            done = True\n",
    "            reward = 0\n",
    "            obs = self.df.loc[len(self.df) - 1, ['Home_Prob', 'Away_Prob', 'Home_Diff', \n",
    "                                                 'Away_Diff', 'Home_KC', 'Away_KC']].values\n",
    "            \n",
    "        else:\n",
    "            done = False\n",
    "            row = self.df.loc[self.current_step, :]\n",
    "            obs = row[['Home_Prob', 'Away_Prob', 'Home_Diff', 'Away_Diff', 'Home_KC', 'Away_KC']].values\n",
    "            \n",
    "            if action_type < 1:\n",
    "                # Determining payoff (home team)\n",
    "                if row[['Home_ML']].values[0] > 0:\n",
    "                    payoff = (row[['Home_ML']].values[0]/100)*action_amount\n",
    "                else:\n",
    "                    payoff = action_amount/((abs(row[['Home_ML']].values[0])/100))\n",
    "                # Determining reward based on result\n",
    "                if row[['Won_Home']].values[0] == 1:\n",
    "                    reward = payoff\n",
    "                else:\n",
    "                    reward = -(action_amount)\n",
    "                \n",
    "            elif action_type < 2:\n",
    "                # Determining payoff (away team)\n",
    "                if row[['Away_ML']].values[0] > 0:\n",
    "                    payoff = (row[['Away_ML']].values[0]/100)*action_amount\n",
    "                else:\n",
    "                    payoff = action_amount/((abs(row[['Away_ML']].values[0])/100))\n",
    "                # Determining reward based on result\n",
    "                if row[['Won_Away']].values[0] == 1:\n",
    "                    reward = payoff\n",
    "                else:\n",
    "                    reward = -(action_amount)\n",
    "                \n",
    "            else:\n",
    "                # No bet\n",
    "                reward = 0\n",
    "\n",
    "        self.current_funds += reward\n",
    "        return obs, reward, done, {}\n",
    "    \n",
    "    def reset(self):\n",
    "        self.current_step = 0\n",
    "        self.current_funds = self.initial_funds\n",
    "        return self.df.loc[self.current_step, ['Home_Prob', 'Away_Prob', 'Home_Diff', 'Away_Diff', 'Home_KC', 'Away_KC']]\n",
    "    \n",
    "    def render(self, mode='human'):\n",
    "        # Render the environment\n",
    "        print(f\"Current funds: {self.current_funds}\")"
   ]
  },
  {
   "cell_type": "markdown",
   "metadata": {},
   "source": [
    "### Trying different models"
   ]
  },
  {
   "cell_type": "code",
   "execution_count": 11,
   "metadata": {},
   "outputs": [],
   "source": [
    "def train_and_test_rl(model):\n",
    "    env = DummyVecEnv([lambda: BettingEnv(data, 100000)])\n",
    "    model.learn(total_timesteps=1000)\n",
    "\n",
    "    for j in range(10):\n",
    "        obs = env.reset()\n",
    "        for i in range(len(data)):\n",
    "            action, _states = model.predict(obs)\n",
    "            obs, rewards, dones, info = env.step(action)\n",
    "            if i == len(data) - 2:\n",
    "                env.render()\n",
    "    return"
   ]
  },
  {
   "cell_type": "code",
   "execution_count": 12,
   "metadata": {},
   "outputs": [
    {
     "name": "stdout",
     "output_type": "stream",
     "text": [
      "Using cpu device\n",
      "-----------------------------\n",
      "| time/              |      |\n",
      "|    fps             | 439  |\n",
      "|    iterations      | 1    |\n",
      "|    time_elapsed    | 4    |\n",
      "|    total_timesteps | 2048 |\n",
      "-----------------------------\n",
      "Current funds: 77116.93436046505\n",
      "Current funds: 113911.00994711848\n",
      "Current funds: 88310.24683525618\n",
      "Current funds: 89278.33400123728\n",
      "Current funds: 106979.17043523796\n",
      "Current funds: 106048.26940948721\n",
      "Current funds: 102239.51552517166\n",
      "Current funds: 107087.09625491092\n",
      "Current funds: 92754.58236674654\n",
      "Current funds: 96864.6268418039\n"
     ]
    }
   ],
   "source": [
    "# PPO\n",
    "\n",
    "train_and_test_rl(model = PPO('MlpPolicy', env, verbose=1))"
   ]
  },
  {
   "cell_type": "code",
   "execution_count": 13,
   "metadata": {},
   "outputs": [
    {
     "name": "stdout",
     "output_type": "stream",
     "text": [
      "Using cpu device\n",
      "Current funds: 99984.509296923\n",
      "Current funds: 99978.52269573303\n",
      "Current funds: 99994.7693671454\n",
      "Current funds: 100005.28510257005\n",
      "Current funds: 100041.18094561035\n",
      "Current funds: 100005.03900929028\n",
      "Current funds: 100003.90096403942\n",
      "Current funds: 99997.72452890166\n",
      "Current funds: 99949.49480551376\n",
      "Current funds: 100009.62407004058\n"
     ]
    }
   ],
   "source": [
    "# SAC\n",
    "\n",
    "train_and_test_rl(model = SAC('MlpPolicy', env, verbose=1))"
   ]
  },
  {
   "cell_type": "code",
   "execution_count": 14,
   "metadata": {},
   "outputs": [
    {
     "name": "stdout",
     "output_type": "stream",
     "text": [
      "Using cpu device\n",
      "Current funds: 100000\n",
      "Current funds: 100000\n",
      "Current funds: 100000\n",
      "Current funds: 100000\n",
      "Current funds: 100000\n",
      "Current funds: 100000\n",
      "Current funds: 100000\n",
      "Current funds: 100000\n",
      "Current funds: 100000\n",
      "Current funds: 100000\n"
     ]
    }
   ],
   "source": [
    "# DDPG\n",
    "\n",
    "train_and_test_rl(model = DDPG('MlpPolicy', env, verbose=1))"
   ]
  },
  {
   "cell_type": "code",
   "execution_count": 17,
   "metadata": {},
   "outputs": [
    {
     "name": "stdout",
     "output_type": "stream",
     "text": [
      "Using cpu device\n",
      "Current funds: 100000\n",
      "Current funds: 100000\n",
      "Current funds: 100000\n",
      "Current funds: 100000\n",
      "Current funds: 100000\n",
      "Current funds: 100000\n",
      "Current funds: 100000\n",
      "Current funds: 100000\n",
      "Current funds: 100000\n",
      "Current funds: 100000\n"
     ]
    }
   ],
   "source": [
    "# TD3\n",
    "\n",
    "train_and_test_rl(model = TD3('MlpPolicy', env, verbose=1))"
   ]
  },
  {
   "cell_type": "code",
   "execution_count": null,
   "metadata": {},
   "outputs": [],
   "source": []
  }
 ],
 "metadata": {
  "kernelspec": {
   "display_name": "Python 3",
   "language": "python",
   "name": "python3"
  },
  "language_info": {
   "codemirror_mode": {
    "name": "ipython",
    "version": 3
   },
   "file_extension": ".py",
   "mimetype": "text/x-python",
   "name": "python",
   "nbconvert_exporter": "python",
   "pygments_lexer": "ipython3",
   "version": "3.7.6"
  }
 },
 "nbformat": 4,
 "nbformat_minor": 4
}
