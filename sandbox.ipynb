{
 "cells": [
  {
   "cell_type": "code",
   "execution_count": 3,
   "metadata": {},
   "outputs": [],
   "source": [
    "import datetime as dt\n",
    "\n",
    "from daily_adjustments.active_rosters import *\n",
    "from daily_adjustments.BP_WAR import *\n",
    "\n",
    "from cluster_luck_functions.cluster_luck_hitting import *\n",
    "from cluster_luck_functions.cluster_luck_pitching import *\n",
    "from cluster_luck_functions.cluster_luck_combined import *\n",
    "\n",
    "from war_functions.pecota_tables import *\n",
    "#from war_functions.historical_war_table import *\n",
    "from war_functions.preseason_war_projections import *\n",
    "from war_functions.preseason_win_percentage import *\n",
    "\n",
    "current_year = dt.date.today().year"
   ]
  },
  {
   "cell_type": "code",
   "execution_count": 11,
   "metadata": {},
   "outputs": [],
   "source": []
  },
  {
   "cell_type": "code",
   "execution_count": 45,
   "metadata": {},
   "outputs": [
    {
     "name": "stderr",
     "output_type": "stream",
     "text": [
      "/Users/hsinger24/Desktop/Baseball-Betting/daily_adjustments/adjusted_war_today.py:227: FutureWarning: elementwise comparison failed; returning scalar instead, but in the future will perform elementwise comparison\n",
      "  if player_name in names[col].values:\n"
     ]
    }
   ],
   "source": [
    "overall_war_predictions_preseason = pd.read_csv('data/overall_war_predictions_preseason.csv')\n",
    "active_roster_war, failed_to_find_players = calculate_active_roster_war_table(active_rosters, overall_war_predictions_preseason, current_year_war, pt, 2022, 0.08)"
   ]
  },
  {
   "cell_type": "code",
   "execution_count": null,
   "metadata": {},
   "outputs": [],
   "source": []
  }
 ],
 "metadata": {
  "kernelspec": {
   "display_name": "Python 3",
   "language": "python",
   "name": "python3"
  },
  "language_info": {
   "codemirror_mode": {
    "name": "ipython",
    "version": 3
   },
   "file_extension": ".py",
   "mimetype": "text/x-python",
   "name": "python",
   "nbconvert_exporter": "python",
   "pygments_lexer": "ipython3",
   "version": "3.7.6"
  }
 },
 "nbformat": 4,
 "nbformat_minor": 4
}
