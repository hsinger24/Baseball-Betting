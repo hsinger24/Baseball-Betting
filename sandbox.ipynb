{
 "cells": [
  {
   "cell_type": "code",
   "execution_count": 1,
   "metadata": {},
   "outputs": [],
   "source": [
    "import pandas as pd\n",
    "from bs4 import BeautifulSoup\n",
    "import requests\n",
    "import datetime as dt\n",
    "import email, smtplib, ssl\n",
    "from email import encoders\n",
    "from email.mime.base import MIMEBase\n",
    "from email.mime.multipart import MIMEMultipart\n",
    "from email.mime.text import MIMEText\n",
    "\n",
    "from war_functions.pecota_tables import *\n",
    "\n",
    "from cluster_luck_functions.cluster_luck_hitting import *\n",
    "from cluster_luck_functions.cluster_luck_pitching import *\n",
    "from cluster_luck_functions.cluster_luck_combined import *\n",
    "\n",
    "from daily_adjustments.active_rosters import *\n",
    "from daily_adjustments.BP_WAR import *\n",
    "from daily_adjustments.todays_game_info import *\n",
    "from daily_adjustments.starting_rotations_WAR import *\n",
    "from daily_adjustments.adjusted_war_today import *\n",
    "\n",
    "from odds_and_other_projections import *\n",
    "\n",
    "team_map = {\n",
    "    'Giants' : 'San Francisco Giants',\n",
    "    'Astros' : 'Houston Astros',\n",
    "    'Brewers': 'Milwaukee Brewers',\n",
    "    'Dodgers': 'Los Angeles Dodgers',\n",
    "    'Rays' : 'Tampa Bay Rays',\n",
    "    'Red Sox': 'Boston Red Sox',\n",
    "    'White Sox': 'Chicago White Sox',\n",
    "    'Padres': 'San Diego Padres',\n",
    "    'Athletics': 'Oakland Athletics',\n",
    "    'Yankees' : 'New York Yankees',\n",
    "    'Mariners': 'Seattle Mariners',\n",
    "    'Reds': 'Cincinnati Reds',\n",
    "    'Blue Jays' : 'Toronto Blue Jays',\n",
    "    'Mets' : 'New York Mets',\n",
    "    'Phillies': 'Philadelphia Phillies',\n",
    "    'Angels': 'Los Angeles Angels',\n",
    "    'Braves': 'Atlanta Braves',\n",
    "    'Cardinals': 'St. Louis Cardinals',\n",
    "    'Tigers': 'Detroit Tigers',\n",
    "    'Cubs': 'Chicago Cubs',\n",
    "    'Indians': 'Cleveland Guardians',\n",
    "    'Nationals': 'Washington Nationals',\n",
    "    'Rockies': 'Colorado Rockies',\n",
    "    'Marlins': 'Miami Marlins',\n",
    "    'Royals': 'Kansas City Royals',\n",
    "    'Twins': 'Minnesota Twins',\n",
    "    'Pirates': 'Pittsburgh Pirates',\n",
    "    'Rangers': 'Texas Rangers',\n",
    "    'Orioles': 'Baltimore Orioles',\n",
    "    'Diamondbacks': 'Arizona Diamondbacks',\n",
    "    'D-backs' : 'Arizona Diamondbacks'\n",
    "}"
   ]
  },
  {
   "cell_type": "code",
   "execution_count": 7,
   "metadata": {},
   "outputs": [
    {
     "name": "stderr",
     "output_type": "stream",
     "text": [
      "\n",
      "\n",
      "====== WebDriver manager ======\n",
      "Current google-chrome version is 100.0.4896\n",
      "Get LATEST driver version for 100.0.4896\n",
      "Driver [/Users/hsinger24/.wdm/drivers/chromedriver/mac64/100.0.4896.60/chromedriver] found in cache\n"
     ]
    }
   ],
   "source": [
    "# Retrieving necessary data\n",
    "\n",
    "active_rosters = retrieve_all_active_rosters(file_name = None)\n",
    "todays_games = retrieve_todays_games_info()\n",
    "current_year_war = retrieve_current_year_WAR()\n",
    "pt = load_combined_pecota_table()\n",
    "odds = retrieve_odds()"
   ]
  },
  {
   "cell_type": "code",
   "execution_count": 4,
   "metadata": {},
   "outputs": [
    {
     "name": "stderr",
     "output_type": "stream",
     "text": [
      "/Users/hsinger24/Desktop/Programming/anaconda3/lib/python3.7/site-packages/ipykernel_launcher.py:11: SettingWithCopyWarning: \n",
      "A value is trying to be set on a copy of a slice from a DataFrame.\n",
      "Try using .loc[row_indexer,col_indexer] = value instead\n",
      "\n",
      "See the caveats in the documentation: https://pandas.pydata.org/pandas-docs/stable/user_guide/indexing.html#returning-a-view-versus-a-copy\n",
      "  # This is added back by InteractiveShellApp.init_path()\n",
      "/Users/hsinger24/Desktop/Programming/anaconda3/lib/python3.7/site-packages/ipykernel_launcher.py:12: SettingWithCopyWarning: \n",
      "A value is trying to be set on a copy of a slice from a DataFrame.\n",
      "Try using .loc[row_indexer,col_indexer] = value instead\n",
      "\n",
      "See the caveats in the documentation: https://pandas.pydata.org/pandas-docs/stable/user_guide/indexing.html#returning-a-view-versus-a-copy\n",
      "  if sys.path[0] == '':\n"
     ]
    },
    {
     "data": {
      "text/plain": [
       "30"
      ]
     },
     "execution_count": 4,
     "metadata": {},
     "output_type": "execute_result"
    }
   ],
   "source": [
    "tables = pd.read_html('https://www.espn.com/mlb/stats/team')\n",
    "runs_scored_table = pd.merge(tables[0], tables[1], left_on = tables[0].index, right_on = tables[1].index)\n",
    "runs_scored_table.drop('key_0', axis = 1, inplace = True)\n",
    "runs_scored_table = runs_scored_table[['Team', 'GP', 'R']]\n",
    "runs_scored_table['Runs_162'] = runs_scored_table.R * (162.0/runs_scored_table.GP)\n",
    "\n",
    "tables = pd.read_html('https://www.foxsports.com/mlb/team-stats?category=pitching&season=2021&seasonType=reg')\n",
    "runs_allowed_table = tables[1]\n",
    "runs_allowed_table = runs_allowed_table.iloc[:,[1,2,13]]\n",
    "runs_allowed_table.columns = ['Team', 'Games', 'Runs_Allowed']\n",
    "runs_allowed_table['Runs_Allowed_162'] = runs_allowed_table.Runs_Allowed * (162.0/runs_allowed_table.Games)\n",
    "runs_allowed_table['Team'] = runs_allowed_table.Team.apply(lambda x: team_map[x])\n",
    "\n",
    "merged = pd.merge(runs_scored_table, runs_allowed_table, on = 'Team')\n",
    "merged = merged[['Team', 'Games', 'Runs_162', 'Runs_Allowed_162']]\n",
    "\n",
    "current_year_hitting = retrieve_historical_hitting_tables(2022, file_name = None)\n",
    "hitting_reg = load_linear_regression(\"data/hitting_regression.pickle\")\n",
    "cluster_luck_hitting = calculate_predicted_cluster_luck_run_adjustment_hitting(hitting_reg, current_year_hitting)\n",
    "cluster_luck_hitting = cluster_luck_hitting[['Team', 'GP', 'run_adjust']]\n",
    "cluster_luck_hitting.columns = ['Team', 'Games', 'Offensive_Adjustment']\n",
    "\n",
    "current_year_pitching = retrieve_historical_pitching_tables(2021, file_name = None)\n",
    "pitching_reg = load_linear_regression('./data/pitching_regression.pickle')\n",
    "cluster_luck_pitching = calculate_predicted_cluster_luck_run_adjustment_pitching(pitching_reg, current_year_pitching)"
   ]
  },
  {
   "cell_type": "code",
   "execution_count": 39,
   "metadata": {},
   "outputs": [
    {
     "name": "stderr",
     "output_type": "stream",
     "text": [
      "/Users/hsinger24/Desktop/Baseball-Betting/daily_adjustments/starting_rotations_WAR.py:110: SettingWithCopyWarning: \n",
      "A value is trying to be set on a copy of a slice from a DataFrame.\n",
      "Try using .loc[row_indexer,col_indexer] = value instead\n",
      "\n",
      "See the caveats in the documentation: https://pandas.pydata.org/pandas-docs/stable/user_guide/indexing.html#returning-a-view-versus-a-copy\n",
      "  starting_pitchers['WAR_proj'] = 0\n",
      "/Users/hsinger24/Desktop/Baseball-Betting/daily_adjustments/starting_rotations_WAR.py:111: SettingWithCopyWarning: \n",
      "A value is trying to be set on a copy of a slice from a DataFrame.\n",
      "Try using .loc[row_indexer,col_indexer] = value instead\n",
      "\n",
      "See the caveats in the documentation: https://pandas.pydata.org/pandas-docs/stable/user_guide/indexing.html#returning-a-view-versus-a-copy\n",
      "  starting_pitchers['WAR'] = 0\n",
      "/Users/hsinger24/Desktop/Baseball-Betting/daily_adjustments/starting_rotations_WAR.py:119: FutureWarning: elementwise comparison failed; returning scalar instead, but in the future will perform elementwise comparison\n",
      "  if pitcher in names[col].values:\n",
      "/Users/hsinger24/Desktop/Programming/anaconda3/lib/python3.7/site-packages/pandas/core/indexing.py:965: SettingWithCopyWarning: \n",
      "A value is trying to be set on a copy of a slice from a DataFrame.\n",
      "Try using .loc[row_indexer,col_indexer] = value instead\n",
      "\n",
      "See the caveats in the documentation: https://pandas.pydata.org/pandas-docs/stable/user_guide/indexing.html#returning-a-view-versus-a-copy\n",
      "  self.obj[item] = s\n"
     ]
    }
   ],
   "source": [
    "starting_rotations, failed_to_find_pitchers = retrieve_starting_rotations_WAR(pt, current_year_war)"
   ]
  },
  {
   "cell_type": "code",
   "execution_count": 49,
   "metadata": {},
   "outputs": [
    {
     "name": "stdout",
     "output_type": "stream",
     "text": [
      "All names failed for       Unnamed: 0.1    bpid      name name_wo_a name_alt_1  name_alt_2  \\\n",
      "3208          3208  108959  Sam Long  Sam Long        NaN         NaN   \n",
      "\n",
      "      name_alt_3  name_alt_4  \n",
      "3208         NaN         NaN   Pecota WAR is: 0.3\n"
     ]
    },
    {
     "name": "stderr",
     "output_type": "stream",
     "text": [
      "/Users/hsinger24/Desktop/Baseball-Betting/daily_adjustments/adjusted_war_today.py:50: FutureWarning: elementwise comparison failed; returning scalar instead, but in the future will perform elementwise comparison\n",
      "  if sp_home in names[col].values:\n",
      "/Users/hsinger24/Desktop/Baseball-Betting/daily_adjustments/adjusted_war_today.py:56: FutureWarning: elementwise comparison failed; returning scalar instead, but in the future will perform elementwise comparison\n",
      "  if sp_away in names[col].values:\n"
     ]
    }
   ],
   "source": [
    "sp_adjustments = calculate_sp_adjustment(todays_games, starting_rotations, pt, frac_season = 0.08)"
   ]
  },
  {
   "cell_type": "code",
   "execution_count": 45,
   "metadata": {},
   "outputs": [
    {
     "name": "stderr",
     "output_type": "stream",
     "text": [
      "/Users/hsinger24/Desktop/Baseball-Betting/daily_adjustments/adjusted_war_today.py:227: FutureWarning: elementwise comparison failed; returning scalar instead, but in the future will perform elementwise comparison\n",
      "  if player_name in names[col].values:\n"
     ]
    }
   ],
   "source": [
    "overall_war_predictions_preseason = pd.read_csv('data/overall_war_predictions_preseason.csv')\n",
    "active_roster_war, failed_to_find_players = calculate_active_roster_war_table(active_rosters, overall_war_predictions_preseason, current_year_war, pt, 2022, 0.08)"
   ]
  },
  {
   "cell_type": "code",
   "execution_count": 48,
   "metadata": {},
   "outputs": [
    {
     "data": {
      "text/plain": [
       "2022"
      ]
     },
     "execution_count": 48,
     "metadata": {},
     "output_type": "execute_result"
    }
   ],
   "source": []
  },
  {
   "cell_type": "code",
   "execution_count": null,
   "metadata": {},
   "outputs": [],
   "source": []
  }
 ],
 "metadata": {
  "kernelspec": {
   "display_name": "Python 3",
   "language": "python",
   "name": "python3"
  },
  "language_info": {
   "codemirror_mode": {
    "name": "ipython",
    "version": 3
   },
   "file_extension": ".py",
   "mimetype": "text/x-python",
   "name": "python",
   "nbconvert_exporter": "python",
   "pygments_lexer": "ipython3",
   "version": "3.7.6"
  }
 },
 "nbformat": 4,
 "nbformat_minor": 4
}
